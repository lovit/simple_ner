{
 "cells": [
  {
   "cell_type": "code",
   "execution_count": 1,
   "metadata": {
    "collapsed": true
   },
   "outputs": [],
   "source": [
    "import sys\n",
    "sys.path.append('../')\n",
    "\n",
    "from config import sentence_fname, zcorpus_fname\n",
    "from simple_ner import FeatureCountingNER, FeatureManager, ZCorpus"
   ]
  },
  {
   "cell_type": "code",
   "execution_count": 2,
   "metadata": {
    "collapsed": false
   },
   "outputs": [
    {
     "name": "stdout",
     "output_type": "stream",
     "text": [
      "# features = 3569453, (43986000 sents) 1.111 Gb"
     ]
    }
   ],
   "source": [
    "feature_manager = FeatureManager(templates=None,\n",
    "                                 feature_begin=-2,\n",
    "                                 feature_end=2)\n",
    "\n",
    "feature_manager.scanning_features(sentence_fname,\n",
    "                                  pruning_n_sents=1000000,\n",
    "                                  pruning_min_count=5,\n",
    "                                  min_count=50)"
   ]
  },
  {
   "cell_type": "code",
   "execution_count": 3,
   "metadata": {
    "collapsed": true
   },
   "outputs": [],
   "source": [
    "feature_manager_fname = './feature_manager.pkl'\n",
    "feature_manager.save(feature_manager_fname)\n",
    "#feature_manager.load(feature_manager_fname)"
   ]
  },
  {
   "cell_type": "code",
   "execution_count": 6,
   "metadata": {
    "collapsed": false
   },
   "outputs": [
    {
     "name": "stdout",
     "output_type": "stream",
     "text": [
      "sent            : ['감사합니다']\n",
      "features        : [[]]\n",
      "encoded features: [[]]\n",
      "\n",
      "sent            : ['네']\n",
      "features        : [[]]\n",
      "encoded features: [[]]\n",
      "\n",
      "sent            : ['아뇨', '내꺼', '아닌데', '요']\n",
      "features        : [[('X[1]', '내꺼'), ('X[1,2]', ('내꺼', '아닌데'))], [('X[-1]', '아뇨'), ('X[-1,1]', ('아뇨', '아닌데')), ('X[-1,2]', ('아뇨', '아닌데', '요')), ('X[1]', '아닌데'), ('X[1,2]', ('아닌데', '요'))], [('X[-2]', '아뇨'), ('X[-2,-1]', ('아뇨', '내꺼')), ('X[-2,1]', ('아뇨', '내꺼', '요')), ('X[-1]', '내꺼'), ('X[-1,1]', ('내꺼', '요')), ('X[1]', '요')], [('X[-2]', '내꺼'), ('X[-2,-1]', ('내꺼', '아닌데')), ('X[-1]', '아닌데')]]\n",
      "encoded features: [[4428], [1666, 1637, 30215], [1798, 2783, 185588, 1], [4007, 2202]]\n",
      "\n",
      "sent            : ['네', '은이', '씨꺼', '인가', '보네요']\n",
      "features        : [[('X[1]', '은이'), ('X[1,2]', ('은이', '씨꺼'))], [('X[-1]', '네'), ('X[-1,1]', ('네', '씨꺼')), ('X[-1,2]', ('네', '씨꺼', '인가')), ('X[1]', '씨꺼'), ('X[1,2]', ('씨꺼', '인가'))], [('X[-2]', '네'), ('X[-2,-1]', ('네', '은이')), ('X[-2,1]', ('네', '은이', '인가')), ('X[-2,2]', ('네', '은이', '인가', '보네요')), ('X[-1]', '은이'), ('X[-1,1]', ('은이', '인가')), ('X[-1,2]', ('은이', '인가', '보네요')), ('X[1]', '인가'), ('X[1,2]', ('인가', '보네요'))], [('X[-2]', '은이'), ('X[-2,-1]', ('은이', '씨꺼')), ('X[-2,1]', ('은이', '씨꺼', '보네요')), ('X[-1]', '씨꺼'), ('X[-1,1]', ('씨꺼', '보네요')), ('X[1]', '보네요')], [('X[-2]', '씨꺼'), ('X[-2,-1]', ('씨꺼', '인가')), ('X[-1]', '인가')]]\n",
      "encoded features: [[8514], [75, 360453], [95, 8889, 754, 176323], [10734, 325394, 15027], [404447, 1152]]\n",
      "\n",
      "sent            : ['저녁', '약속', '있나요', '?']\n",
      "features        : [[('X[1]', '약속'), ('X[1,2]', ('약속', '있나요'))], [('X[-1]', '저녁'), ('X[-1,1]', ('저녁', '있나요')), ('X[-1,2]', ('저녁', '있나요', '?')), ('X[1]', '있나요'), ('X[1,2]', ('있나요', '?'))], [('X[-2]', '저녁'), ('X[-2,-1]', ('저녁', '약속')), ('X[-2,1]', ('저녁', '약속', '?')), ('X[-1]', '약속'), ('X[-1,1]', ('약속', '?')), ('X[1]', '?')], [('X[-2]', '약속'), ('X[-2,-1]', ('약속', '있나요')), ('X[-1]', '있나요')]]\n",
      "encoded features: [[1511], [186, 10854, 10853], [220, 23376, 172696, 1154, 8131, 0], [1493, 10755]]\n",
      "\n"
     ]
    }
   ],
   "source": [
    "from simple_ner import Sentences\n",
    "for i, sent in enumerate(Sentences(sentence_fname)):\n",
    "    if i >= 5: break\n",
    "    print('sent            :', sent)\n",
    "    print('features        :', feature_manager.words_to_feature(sent))\n",
    "    print('encoded features:', feature_manager.words_to_encoded_feature(sent), end='\\n\\n')"
   ]
  },
  {
   "cell_type": "code",
   "execution_count": 12,
   "metadata": {
    "collapsed": false
   },
   "outputs": [
    {
     "name": "stdout",
     "output_type": "stream",
     "text": [
      "transforming has done\n"
     ]
    }
   ],
   "source": [
    "feature_manager.transform_rawtext_to_zcorpus(sentence_fname, zcorpus_fname)"
   ]
  },
  {
   "cell_type": "code",
   "execution_count": 13,
   "metadata": {
    "collapsed": false
   },
   "outputs": [
    {
     "name": "stdout",
     "output_type": "stream",
     "text": [
      "감사합니다\n",
      "네\n",
      "아뇨\t4428\n",
      "내꺼\t1666 1637 30215\n",
      "아닌데\t1798 2783 185588 1\n"
     ]
    }
   ],
   "source": [
    "with open(zcorpus_fname, encoding='utf-8') as f:\n",
    "    for _ in range(5):\n",
    "        print(next(f).strip())"
   ]
  },
  {
   "cell_type": "code",
   "execution_count": 14,
   "metadata": {
    "collapsed": false
   },
   "outputs": [
    {
     "name": "stdout",
     "output_type": "stream",
     "text": [
      "('아뇨', ['4428'])\n",
      "('내꺼', ['1666', '1637', '30215'])\n",
      "('아닌데', ['1798', '2783', '185588', '1'])\n",
      "('요', ['4007', '2202'])\n",
      "('네', ['8514'])\n",
      "('은이', ['75', '360453'])\n",
      "('씨꺼', ['95', '8889', '754', '176323'])\n",
      "('인가', ['10734', '325394', '15027'])\n",
      "('보네요', ['404447', '1152'])\n",
      "('저녁', ['1511'])\n",
      "('약속', ['186', '10854', '10853'])\n"
     ]
    }
   ],
   "source": [
    "for num_z, zi in enumerate(ZCorpus(zcorpus_fname)):\n",
    "    if num_z > 10: break\n",
    "    print(zi)"
   ]
  },
  {
   "cell_type": "code",
   "execution_count": null,
   "metadata": {
    "collapsed": true
   },
   "outputs": [],
   "source": []
  }
 ],
 "metadata": {
  "kernelspec": {
   "display_name": "Python 3",
   "language": "python",
   "name": "python3"
  },
  "language_info": {
   "codemirror_mode": {
    "name": "ipython",
    "version": 3
   },
   "file_extension": ".py",
   "mimetype": "text/x-python",
   "name": "python",
   "nbconvert_exporter": "python",
   "pygments_lexer": "ipython3",
   "version": "3.5.2"
  }
 },
 "nbformat": 4,
 "nbformat_minor": 0
}
